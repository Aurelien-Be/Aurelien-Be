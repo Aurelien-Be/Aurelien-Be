{
  "nbformat": 4,
  "nbformat_minor": 0,
  "metadata": {
    "colab": {
      "provenance": [],
      "gpuType": "T4",
      "authorship_tag": "ABX9TyMHYyyibk07NTYgMIYxghkj",
      "include_colab_link": true
    },
    "kernelspec": {
      "name": "python3",
      "display_name": "Python 3"
    },
    "language_info": {
      "name": "python"
    }
  },
  "cells": [
    {
      "cell_type": "markdown",
      "metadata": {
        "id": "view-in-github",
        "colab_type": "text"
      },
      "source": [
        "<a href=\"https://colab.research.google.com/github/Aurelien-Be/Aurelien-Be/blob/main/japprendspytorch.ipynb\" target=\"_parent\"><img src=\"https://colab.research.google.com/assets/colab-badge.svg\" alt=\"Open In Colab\"/></a>"
      ]
    },
    {
      "cell_type": "code",
      "execution_count": 3,
      "metadata": {
        "colab": {
          "base_uri": "https://localhost:8080/"
        },
        "id": "D8pxn3cr2Nel",
        "outputId": "02f517d3-0bb7-4f4f-96ba-949213c2e1a6"
      },
      "outputs": [
        {
          "output_type": "stream",
          "name": "stdout",
          "text": [
            "2.6.0+cu124\n"
          ]
        }
      ],
      "source": [
        "import torch\n",
        "import pandas as pd\n",
        "import matplotlib.pyplot as plt\n",
        "\n",
        "print (torch.__version__)"
      ]
    },
    {
      "cell_type": "code",
      "source": [
        "#introductions to tensors\n",
        "\n",
        "#scalar\n",
        "\n",
        "scalar = torch.tensor(7)  #tensors are created using torch.tensor()\n",
        "scalar  #a scalar is a tensor with no dimensions, meaning it doesn’t have rows,\n",
        "        #columns, or any extra structure\n",
        "\n"
      ],
      "metadata": {
        "colab": {
          "base_uri": "https://localhost:8080/"
        },
        "id": "Y6y0Et795qmX",
        "outputId": "6f4d7201-0350-4e4a-e82d-19bcc9729463"
      },
      "execution_count": 4,
      "outputs": [
        {
          "output_type": "execute_result",
          "data": {
            "text/plain": [
              "tensor(7)"
            ]
          },
          "metadata": {},
          "execution_count": 4
        }
      ]
    },
    {
      "cell_type": "code",
      "source": [
        "scalar.ndim"
      ],
      "metadata": {
        "colab": {
          "base_uri": "https://localhost:8080/"
        },
        "id": "owybb78z8Fsc",
        "outputId": "393fb275-9f56-44b2-8be8-07fc53e6c525"
      },
      "execution_count": 5,
      "outputs": [
        {
          "output_type": "execute_result",
          "data": {
            "text/plain": [
              "0"
            ]
          },
          "metadata": {},
          "execution_count": 5
        }
      ]
    },
    {
      "cell_type": "code",
      "source": [
        "#get tensor back as Python int\n",
        "scalar.item()"
      ],
      "metadata": {
        "colab": {
          "base_uri": "https://localhost:8080/"
        },
        "id": "Jn5R0Zv18PUT",
        "outputId": "9e236a94-2b26-4131-c5c3-ff447d4255f6"
      },
      "execution_count": 6,
      "outputs": [
        {
          "output_type": "execute_result",
          "data": {
            "text/plain": [
              "7"
            ]
          },
          "metadata": {},
          "execution_count": 6
        }
      ]
    },
    {
      "cell_type": "code",
      "source": [
        "#Vector\n",
        "\n",
        "vector = torch.tensor([7,7])\n",
        "vector\n",
        "#a vector has one dimension but different values, the position of each element is important, useful for structured datas"
      ],
      "metadata": {
        "colab": {
          "base_uri": "https://localhost:8080/"
        },
        "id": "WkoLS_kw82Ir",
        "outputId": "78552772-1ec5-42c9-abd5-dd7da0c42c2f"
      },
      "execution_count": 4,
      "outputs": [
        {
          "output_type": "execute_result",
          "data": {
            "text/plain": [
              "tensor([7, 7])"
            ]
          },
          "metadata": {},
          "execution_count": 4
        }
      ]
    },
    {
      "cell_type": "code",
      "source": [
        "vector.ndim"
      ],
      "metadata": {
        "colab": {
          "base_uri": "https://localhost:8080/"
        },
        "id": "jZHyRLoc9jtL",
        "outputId": "47854aaa-0ff4-4dcc-98df-cb3e6cfb851a"
      },
      "execution_count": 5,
      "outputs": [
        {
          "output_type": "execute_result",
          "data": {
            "text/plain": [
              "1"
            ]
          },
          "metadata": {},
          "execution_count": 5
        }
      ]
    },
    {
      "cell_type": "code",
      "source": [
        "vector.shape #how many elements"
      ],
      "metadata": {
        "colab": {
          "base_uri": "https://localhost:8080/"
        },
        "id": "WrHHf3tt93hi",
        "outputId": "9597d1bc-9ae7-4ab5-8ae9-e29cfaa31c7c"
      },
      "execution_count": 6,
      "outputs": [
        {
          "output_type": "execute_result",
          "data": {
            "text/plain": [
              "torch.Size([2])"
            ]
          },
          "metadata": {},
          "execution_count": 6
        }
      ]
    },
    {
      "cell_type": "code",
      "source": [
        "#MATRIX\n",
        "# Define MATRIX as a list of lists to represent a 2x2 tensor (matrix)\n",
        "# Each inner list corresponds to a row in the matrix\n",
        "MATRIX = ([7, 8],     # First row of the matrix containing two elements: 7 and 8\n",
        "          [9, 10])    # Second row of the matrix containing two elements: 9 and 10\n",
        "\n",
        "# Explanation of the matrix:\n",
        "# 1. Structure:\n",
        "#    - MATRIX is essentially a 2-dimensional structure.\n",
        "#    - It has 2 rows and 2 columns.\n",
        "#\n",
        "# 2. Representation:\n",
        "#    - The first inner list [7, 8] represents the first row.\n",
        "#    - The second inner list [9, 10] represents the second row.\n",
        "#\n",
        "# 3. Usage:\n",
        "#    - In many programming scenarios and in linear algebra, such a matrix can\n",
        "#      be used to perform a variety of operations such as matrix addition,\n",
        "#      multiplication, or as a way to represent data in a structured, 2D format.\n",
        "#\n",
        "# 4. Transition to Tensor Libraries:\n",
        "#    - When using libraries like PyTorch or NumPy, you can convert this list of lists\n",
        "#      into a tensor or array for efficient numerical operations."
      ],
      "metadata": {
        "colab": {
          "base_uri": "https://localhost:8080/"
        },
        "id": "RyuqlTrL-LwS",
        "outputId": "35f38ef5-8e79-4810-c0e9-8118d6a24ef4"
      },
      "execution_count": 8,
      "outputs": [
        {
          "output_type": "execute_result",
          "data": {
            "text/plain": [
              "[[7, 8], [9, 10]]"
            ]
          },
          "metadata": {},
          "execution_count": 8
        }
      ]
    }
  ]
}