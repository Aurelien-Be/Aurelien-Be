{
  "nbformat": 4,
  "nbformat_minor": 0,
  "metadata": {
    "colab": {
      "provenance": [],
      "gpuType": "T4",
      "authorship_tag": "ABX9TyPuplpASN0iM6eXk0KjaZrU",
      "include_colab_link": true
    },
    "kernelspec": {
      "name": "python3",
      "display_name": "Python 3"
    },
    "language_info": {
      "name": "python"
    }
  },
  "cells": [
    {
      "cell_type": "markdown",
      "metadata": {
        "id": "view-in-github",
        "colab_type": "text"
      },
      "source": [
        "<a href=\"https://colab.research.google.com/github/Aurelien-Be/Aurelien-Be/blob/main/japprendspytorch.ipynb\" target=\"_parent\"><img src=\"https://colab.research.google.com/assets/colab-badge.svg\" alt=\"Open In Colab\"/></a>"
      ]
    },
    {
      "cell_type": "code",
      "execution_count": 1,
      "metadata": {
        "colab": {
          "base_uri": "https://localhost:8080/"
        },
        "id": "D8pxn3cr2Nel",
        "outputId": "80a73b87-9dc5-455c-9d28-560bf72db39b"
      },
      "outputs": [
        {
          "output_type": "stream",
          "name": "stdout",
          "text": [
            "2.6.0+cu124\n"
          ]
        }
      ],
      "source": [
        "import torch\n",
        "import pandas as pd\n",
        "import matplotlib.pyplot as plt\n",
        "\n",
        "print (torch.__version__)"
      ]
    },
    {
      "cell_type": "code",
      "source": [
        "#introductions to tensors\n",
        "\n",
        "#scalar\n",
        "\n",
        "scalar = torch.tensor(7)  #tensors are created using torch.tensor()\n",
        "scalar  #a scalar is a tensor with no dimensions, meaning it doesn’t have rows,\n",
        "        #columns, or any extra structure\n",
        "\n"
      ],
      "metadata": {
        "colab": {
          "base_uri": "https://localhost:8080/"
        },
        "id": "Y6y0Et795qmX",
        "outputId": "6f4d7201-0350-4e4a-e82d-19bcc9729463"
      },
      "execution_count": null,
      "outputs": [
        {
          "output_type": "execute_result",
          "data": {
            "text/plain": [
              "tensor(7)"
            ]
          },
          "metadata": {},
          "execution_count": 4
        }
      ]
    },
    {
      "cell_type": "code",
      "source": [
        "scalar.ndim"
      ],
      "metadata": {
        "colab": {
          "base_uri": "https://localhost:8080/"
        },
        "id": "owybb78z8Fsc",
        "outputId": "393fb275-9f56-44b2-8be8-07fc53e6c525"
      },
      "execution_count": null,
      "outputs": [
        {
          "output_type": "execute_result",
          "data": {
            "text/plain": [
              "0"
            ]
          },
          "metadata": {},
          "execution_count": 5
        }
      ]
    },
    {
      "cell_type": "code",
      "source": [
        "#get tensor back as Python int\n",
        "scalar.item()"
      ],
      "metadata": {
        "colab": {
          "base_uri": "https://localhost:8080/"
        },
        "id": "Jn5R0Zv18PUT",
        "outputId": "9e236a94-2b26-4131-c5c3-ff447d4255f6"
      },
      "execution_count": null,
      "outputs": [
        {
          "output_type": "execute_result",
          "data": {
            "text/plain": [
              "7"
            ]
          },
          "metadata": {},
          "execution_count": 6
        }
      ]
    },
    {
      "cell_type": "code",
      "source": [
        "#Vector\n",
        "\n",
        "vector = torch.tensor([7,7])\n",
        "vector\n",
        "#a vector has one dimension but different values, the position of each element is important, useful for structured datas"
      ],
      "metadata": {
        "colab": {
          "base_uri": "https://localhost:8080/"
        },
        "id": "WkoLS_kw82Ir",
        "outputId": "78552772-1ec5-42c9-abd5-dd7da0c42c2f"
      },
      "execution_count": null,
      "outputs": [
        {
          "output_type": "execute_result",
          "data": {
            "text/plain": [
              "tensor([7, 7])"
            ]
          },
          "metadata": {},
          "execution_count": 4
        }
      ]
    },
    {
      "cell_type": "code",
      "source": [
        "vector.ndim"
      ],
      "metadata": {
        "colab": {
          "base_uri": "https://localhost:8080/"
        },
        "id": "jZHyRLoc9jtL",
        "outputId": "47854aaa-0ff4-4dcc-98df-cb3e6cfb851a"
      },
      "execution_count": null,
      "outputs": [
        {
          "output_type": "execute_result",
          "data": {
            "text/plain": [
              "1"
            ]
          },
          "metadata": {},
          "execution_count": 5
        }
      ]
    },
    {
      "cell_type": "code",
      "source": [
        "vector.shape #how many elements"
      ],
      "metadata": {
        "colab": {
          "base_uri": "https://localhost:8080/"
        },
        "id": "WrHHf3tt93hi",
        "outputId": "9597d1bc-9ae7-4ab5-8ae9-e29cfaa31c7c"
      },
      "execution_count": null,
      "outputs": [
        {
          "output_type": "execute_result",
          "data": {
            "text/plain": [
              "torch.Size([2])"
            ]
          },
          "metadata": {},
          "execution_count": 6
        }
      ]
    },
    {
      "cell_type": "code",
      "source": [
        "#MATRIX\n",
        "# Define MATRIX as a list of lists to represent a 2x2 tensor (matrix)\n",
        "# Each inner list corresponds to a row in the matrix\n",
        "MATRIX = torch.tensor([[7, 8],     # First row of the matrix containing two elements: 7 and 8\n",
        "          [9, 10]])    # Second row of the matrix containing two elements: 9 and 10\n",
        "\n",
        "# Explanation of the matrix:\n",
        "# 1. Structure:\n",
        "#    - MATRIX is essentially a 2-dimensional structure.\n",
        "#    - It has 2 rows and 2 columns.\n",
        "#\n",
        "# 2. Representation:\n",
        "#    - The first inner list [7, 8] represents the first row.\n",
        "#    - The second inner list [9, 10] represents the second row.\n",
        "#\n",
        "# 3. Usage:\n",
        "#    - In many programming scenarios and in linear algebra, such a matrix can\n",
        "#      be used to perform a variety of operations such as matrix addition,\n",
        "#      multiplication, or as a way to represent data in a structured, 2D format.\n",
        "#\n",
        "# 4. Transition to Tensor Libraries:\n",
        "#    - When using libraries like PyTorch or NumPy, you can convert this list of lists\n",
        "#      into a tensor or array for efficient numerical operations."
      ],
      "metadata": {
        "id": "RyuqlTrL-LwS"
      },
      "execution_count": 3,
      "outputs": []
    },
    {
      "cell_type": "code",
      "source": [
        "MATRIX.ndim\n",
        "#2 dimensions"
      ],
      "metadata": {
        "colab": {
          "base_uri": "https://localhost:8080/"
        },
        "id": "H7zqWN77_i3y",
        "outputId": "29604e43-676c-4c1c-d0e0-a8595fb6c3b4"
      },
      "execution_count": 4,
      "outputs": [
        {
          "output_type": "execute_result",
          "data": {
            "text/plain": [
              "2"
            ]
          },
          "metadata": {},
          "execution_count": 4
        }
      ]
    },
    {
      "cell_type": "code",
      "source": [
        "MATRIX[1]"
      ],
      "metadata": {
        "colab": {
          "base_uri": "https://localhost:8080/"
        },
        "id": "V8aXcyXf_-Q7",
        "outputId": "2c5a3548-76cf-491d-9b91-a81ea65b7988"
      },
      "execution_count": 5,
      "outputs": [
        {
          "output_type": "execute_result",
          "data": {
            "text/plain": [
              "tensor([ 9, 10])"
            ]
          },
          "metadata": {},
          "execution_count": 5
        }
      ]
    },
    {
      "cell_type": "code",
      "source": [
        "MATRIX.shape"
      ],
      "metadata": {
        "colab": {
          "base_uri": "https://localhost:8080/"
        },
        "id": "MV3DZ-dEAHKp",
        "outputId": "ba5ccc3b-404f-4608-d798-53e8702e3ef5"
      },
      "execution_count": 6,
      "outputs": [
        {
          "output_type": "execute_result",
          "data": {
            "text/plain": [
              "torch.Size([2, 2])"
            ]
          },
          "metadata": {},
          "execution_count": 6
        }
      ]
    },
    {
      "cell_type": "code",
      "source": [
        "#TENSOR\n",
        "# Creating a 3D tensor with shape [1, 3, 3]\n",
        "# - Dimension 0 (outermost): 1 element (single batch/item)\n",
        "# - Dimension 1 (middle): 3 rows\n",
        "# - Dimension 2 (innermost): 3 columns per row\n",
        "# This tensor can represent a single 3x3 matrix, or one 3x3 image in a batch\n",
        "\n",
        "\n",
        "TENSOR = torch.tensor([[[1,2,3],\n",
        "                        [3,6,9],\n",
        "                        [2,4,6]]])\n",
        "\n",
        "TENSOR"
      ],
      "metadata": {
        "colab": {
          "base_uri": "https://localhost:8080/"
        },
        "id": "5OM8u0vlFl6c",
        "outputId": "c8b410cd-dc8c-450e-f6ae-a6588ca32902"
      },
      "execution_count": 8,
      "outputs": [
        {
          "output_type": "execute_result",
          "data": {
            "text/plain": [
              "tensor([[[1, 2, 3],\n",
              "         [3, 6, 9],\n",
              "         [2, 4, 6]]])"
            ]
          },
          "metadata": {},
          "execution_count": 8
        }
      ]
    },
    {
      "cell_type": "code",
      "source": [
        "TENSOR.ndim"
      ],
      "metadata": {
        "colab": {
          "base_uri": "https://localhost:8080/"
        },
        "id": "Ie0x_W9_Gfdf",
        "outputId": "d33d0e31-a443-4623-c1ed-3cbc49e1d26b"
      },
      "execution_count": 9,
      "outputs": [
        {
          "output_type": "execute_result",
          "data": {
            "text/plain": [
              "3"
            ]
          },
          "metadata": {},
          "execution_count": 9
        }
      ]
    },
    {
      "cell_type": "code",
      "source": [
        "TENSOR.shape"
      ],
      "metadata": {
        "colab": {
          "base_uri": "https://localhost:8080/"
        },
        "id": "YLMCHm4iGmZt",
        "outputId": "4063db30-eb97-4510-8232-fe20e9896fbf"
      },
      "execution_count": 10,
      "outputs": [
        {
          "output_type": "execute_result",
          "data": {
            "text/plain": [
              "torch.Size([1, 3, 3])"
            ]
          },
          "metadata": {},
          "execution_count": 10
        }
      ]
    },
    {
      "cell_type": "code",
      "source": [
        "TENSOR[0]\n",
        "# Indexing the 0th (and only) element along the first dimension\n",
        "# This returns a 2D tensor with shape [3, 3] by removing the outermost dimension\n",
        "# Equivalent to accessing the first (and only) batch/item in our tensor"
      ],
      "metadata": {
        "colab": {
          "base_uri": "https://localhost:8080/"
        },
        "id": "EnzYH_F_G3GM",
        "outputId": "e83fcbaa-2420-41a7-b7c4-a654df7a9672"
      },
      "execution_count": 11,
      "outputs": [
        {
          "output_type": "execute_result",
          "data": {
            "text/plain": [
              "tensor([[1, 2, 3],\n",
              "        [3, 6, 9],\n",
              "        [2, 4, 6]])"
            ]
          },
          "metadata": {},
          "execution_count": 11
        }
      ]
    },
    {
      "cell_type": "code",
      "source": [
        "#test\n",
        "TENSOR1 = torch.tensor([\n",
        "    [\n",
        "        [1, 2, 3],\n",
        "        [3, 6, 9],\n",
        "        [2, 4, 6]\n",
        "    ],\n",
        "    [\n",
        "        [6, 6, 6],\n",
        "        [6, 6, 6],\n",
        "        [6, 6, 6]\n",
        "    ]\n",
        "])\n",
        "#Each sub-tensor at the same level must have the same shape\n",
        "\n",
        "#This is a fundamental rule in PyTorch (and most tensor libraries): when creating multi-dimensional tensors, all elements at the same nesting level must maintain consistent dimensions to ensure a regular structure.\n",
        "\n"
      ],
      "metadata": {
        "id": "Ltz_EMxCIcCw"
      },
      "execution_count": 21,
      "outputs": []
    },
    {
      "cell_type": "code",
      "source": [
        "TENSOR1.shape"
      ],
      "metadata": {
        "colab": {
          "base_uri": "https://localhost:8080/"
        },
        "id": "K3CjZUIvJuUV",
        "outputId": "0c65d380-ed3f-4fbb-90d0-561ed9be762d"
      },
      "execution_count": 22,
      "outputs": [
        {
          "output_type": "execute_result",
          "data": {
            "text/plain": [
              "torch.Size([2, 3, 3])"
            ]
          },
          "metadata": {},
          "execution_count": 22
        }
      ]
    }
  ]
}